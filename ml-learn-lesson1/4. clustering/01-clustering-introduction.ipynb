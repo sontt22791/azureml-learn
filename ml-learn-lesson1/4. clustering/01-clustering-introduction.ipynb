{
  "cells": [
    {
      "cell_type": "markdown",
      "source": [
        "# Clustering - Introduction\n",
        "\n",
        "In contrast to *supervised* machine learning, *unsupervised* learning is used when there is no \"ground truth\" from which to train and validate label predictions. The most common form of unsupervised learning is *clustering*, which is simllar conceptually to *classification*, except that the the training data does not include known values for the class label to be predicted. Clustering works by separating the training cases based on similarities that can be determined from their feature values. Think of it this way; the numeric features of a given entity can be thought of as vector coordinates that define the entity's position in n-dimensional space. What a clustering model seeks to do is to identify groups, or *clusters*, of entities that are close to one another while being separated from other clusters.\n",
        "\n",
        "For example, let's take a look at a dataset that contains measurements of different species of wheat seed.\n",
        "\n",
        "> **Citation**: The seeds dataset used in the this exercise was originally published by the Institute of Agrophysics of the Polish Academy of Sciences in Lublin, and can be downloaded from the UCI dataset repository (Dua, D. and Graff, C. (2019). UCI Machine Learning Repository [http://archive.ics.uci.edu/ml]. Irvine, CA: University of California, School of Information and Computer Science)."
      ],
      "metadata": {}
    },
    {
      "cell_type": "code",
      "source": [
        "import pandas as pd\n",
        "\n",
        "# load the training dataset\n",
        "!wget https://raw.githubusercontent.com/MicrosoftDocs/mslearn-introduction-to-machine-learning/main/Data/ml-basics/seeds.csv\n",
        "data = pd.read_csv('seeds.csv')\n",
        "\n",
        "# Display a random sample of 10 observations (just the features)\n",
        "features = data[data.columns[0:6]]\n",
        "features.sample(10)"
      ],
      "outputs": [
        {
          "output_type": "stream",
          "name": "stdout",
          "text": [
            "--2021-07-27 07:25:21--  https://raw.githubusercontent.com/MicrosoftDocs/mslearn-introduction-to-machine-learning/main/Data/ml-basics/seeds.csv\r\n",
            "Resolving raw.githubusercontent.com... 185.199.110.133, 185.199.111.133, 185.199.108.133, ...\r\n",
            "Connecting to raw.githubusercontent.com|185.199.110.133|:443... connected.\r\n",
            "HTTP request sent, awaiting response... 200 OK\r\n",
            "Length: 9386 (9.2K) [text/plain]\r\n",
            "Saving to: ‘seeds.csv’\r\n",
            "\r\n",
            "\rseeds.csv             0%[                    ]       0  --.-KB/s               \r",
            "seeds.csv           100%[===================>]   9.17K  --.-KB/s    in 0s      \r\n",
            "\r\n",
            "2021-07-27 07:25:22 (76.3 MB/s) - ‘seeds.csv’ saved [9386/9386]\r\n",
            "\r\n"
          ]
        },
        {
          "output_type": "execute_result",
          "execution_count": 2,
          "data": {
            "text/plain": "      area  perimeter  compactness  kernel_length  kernel_width  \\\n114  20.97      17.25       0.8859          6.563         3.991   \n110  18.45      16.12       0.8921          6.107         3.769   \n166  12.44      13.59       0.8462          5.319         2.897   \n20   14.16      14.40       0.8584          5.658         3.129   \n12   13.89      14.02       0.8880          5.439         3.199   \n172  11.27      12.97       0.8419          5.088         2.763   \n169  11.24      13.00       0.8359          5.090         2.715   \n82   20.20      16.89       0.8894          6.285         3.864   \n207  13.20      13.66       0.8883          5.236         3.232   \n107  17.63      15.86       0.8800          6.033         3.573   \n\n     asymmetry_coefficient  \n114                  4.677  \n110                  2.235  \n166                  4.924  \n20                   3.072  \n12                   3.986  \n172                  4.309  \n169                  3.521  \n82                   5.173  \n207                  8.315  \n107                  3.747  ",
            "text/html": "<div>\n<style scoped>\n    .dataframe tbody tr th:only-of-type {\n        vertical-align: middle;\n    }\n\n    .dataframe tbody tr th {\n        vertical-align: top;\n    }\n\n    .dataframe thead th {\n        text-align: right;\n    }\n</style>\n<table border=\"1\" class=\"dataframe\">\n  <thead>\n    <tr style=\"text-align: right;\">\n      <th></th>\n      <th>area</th>\n      <th>perimeter</th>\n      <th>compactness</th>\n      <th>kernel_length</th>\n      <th>kernel_width</th>\n      <th>asymmetry_coefficient</th>\n    </tr>\n  </thead>\n  <tbody>\n    <tr>\n      <th>114</th>\n      <td>20.97</td>\n      <td>17.25</td>\n      <td>0.8859</td>\n      <td>6.563</td>\n      <td>3.991</td>\n      <td>4.677</td>\n    </tr>\n    <tr>\n      <th>110</th>\n      <td>18.45</td>\n      <td>16.12</td>\n      <td>0.8921</td>\n      <td>6.107</td>\n      <td>3.769</td>\n      <td>2.235</td>\n    </tr>\n    <tr>\n      <th>166</th>\n      <td>12.44</td>\n      <td>13.59</td>\n      <td>0.8462</td>\n      <td>5.319</td>\n      <td>2.897</td>\n      <td>4.924</td>\n    </tr>\n    <tr>\n      <th>20</th>\n      <td>14.16</td>\n      <td>14.40</td>\n      <td>0.8584</td>\n      <td>5.658</td>\n      <td>3.129</td>\n      <td>3.072</td>\n    </tr>\n    <tr>\n      <th>12</th>\n      <td>13.89</td>\n      <td>14.02</td>\n      <td>0.8880</td>\n      <td>5.439</td>\n      <td>3.199</td>\n      <td>3.986</td>\n    </tr>\n    <tr>\n      <th>172</th>\n      <td>11.27</td>\n      <td>12.97</td>\n      <td>0.8419</td>\n      <td>5.088</td>\n      <td>2.763</td>\n      <td>4.309</td>\n    </tr>\n    <tr>\n      <th>169</th>\n      <td>11.24</td>\n      <td>13.00</td>\n      <td>0.8359</td>\n      <td>5.090</td>\n      <td>2.715</td>\n      <td>3.521</td>\n    </tr>\n    <tr>\n      <th>82</th>\n      <td>20.20</td>\n      <td>16.89</td>\n      <td>0.8894</td>\n      <td>6.285</td>\n      <td>3.864</td>\n      <td>5.173</td>\n    </tr>\n    <tr>\n      <th>207</th>\n      <td>13.20</td>\n      <td>13.66</td>\n      <td>0.8883</td>\n      <td>5.236</td>\n      <td>3.232</td>\n      <td>8.315</td>\n    </tr>\n    <tr>\n      <th>107</th>\n      <td>17.63</td>\n      <td>15.86</td>\n      <td>0.8800</td>\n      <td>6.033</td>\n      <td>3.573</td>\n      <td>3.747</td>\n    </tr>\n  </tbody>\n</table>\n</div>"
          },
          "metadata": {}
        }
      ],
      "execution_count": 2,
      "metadata": {}
    },
    {
      "cell_type": "markdown",
      "source": [
        "As you can see, the dataset contains six data points (or *features*) for each instance (*observation*) of a seed. So you could interpret these as coordinates that describe each instance's location in six-dimensional space.\n",
        "\n",
        "Now, of course six-dimensional space is difficult to visualise in a three-dimensional world, or on a two-dimensional plot; so we'll take advantage of a mathematical technique called *Principal Component Analysis* (PCA) to analyze the relationships between the features and summarize each observation as coordinates for two principal components - in other words, we'll translate the six-dimensional feature values into two-dimensional coordinates."
      ],
      "metadata": {}
    },
    {
      "cell_type": "code",
      "source": [
        "from sklearn.preprocessing import MinMaxScaler\n",
        "from sklearn.decomposition import PCA\n",
        "\n",
        "# Normalize the numeric features so they're on the same scale\n",
        "scaled_features = MinMaxScaler().fit_transform(features[data.columns[0:6]])\n",
        "\n",
        "# Get two principal components\n",
        "pca = PCA(n_components=2).fit(scaled_features)\n",
        "features_2d = pca.transform(scaled_features)\n",
        "features_2d[0:10]"
      ],
      "outputs": [
        {
          "output_type": "execute_result",
          "execution_count": 3,
          "data": {
            "text/plain": "array([[ 0.11883593, -0.09382469],\n       [ 0.0696878 , -0.31077233],\n       [-0.03499184, -0.37044705],\n       [-0.06582089, -0.36365235],\n       [ 0.32594892, -0.37695797],\n       [-0.02455447, -0.31060184],\n       [-0.00769646, -0.07594931],\n       [-0.05646955, -0.26696284],\n       [ 0.38196305, -0.05149471],\n       [ 0.35701044, -0.17697998]])"
          },
          "metadata": {}
        }
      ],
      "execution_count": 3,
      "metadata": {}
    },
    {
      "cell_type": "markdown",
      "source": [
        "Now that we have the data points translated to two dimensions, we can visualize them in a plot:"
      ],
      "metadata": {}
    },
    {
      "cell_type": "code",
      "source": [
        "import matplotlib.pyplot as plt\n",
        "\n",
        "%matplotlib inline\n",
        "\n",
        "plt.scatter(features_2d[:,0],features_2d[:,1])\n",
        "plt.xlabel('Dimension 1')\n",
        "plt.ylabel('Dimension 2')\n",
        "plt.title('Data')\n",
        "plt.show()"
      ],
      "outputs": [
        {
          "output_type": "display_data",
          "data": {
            "text/plain": "<Figure size 432x288 with 1 Axes>",
            "image/png": "[encoded data removed]"
          },
          "metadata": {
            "needs_background": "light"
          }
        }
      ],
      "execution_count": 4,
      "metadata": {}
    },
    {
      "cell_type": "markdown",
      "source": [
        "Hopefully you can see at least two, arguably three, reasonably distinct groups of data points; but here lies one of the fundamental problems with clustering - without known class labels, how do you know how many clusters to separate your data into?\n",
        "\n",
        "One way we can try to find out is to use a data sample to create a series of clustering models with an incrementing number of clusters, and measure how tightly the data points are grouped within each cluster. A metric often used to measure this tightness is the *within cluster sum of squares* (WCSS), with lower values meaning that the data points are closer. You can then plot the WCSS for each model."
      ],
      "metadata": {}
    },
    {
      "cell_type": "code",
      "source": [
        "#importing the libraries\n",
        "import numpy as np\n",
        "import matplotlib.pyplot as plt\n",
        "from sklearn.cluster import KMeans\n",
        "%matplotlib inline\n",
        "\n",
        "# Create 10 models with 1 to 10 clusters\n",
        "wcss = []\n",
        "for i in range(1, 11):\n",
        "    kmeans = KMeans(n_clusters = i)\n",
        "    # Fit the data points\n",
        "    kmeans.fit(features.values)\n",
        "    # Get the WCSS (inertia) value\n",
        "    wcss.append(kmeans.inertia_)\n",
        "    \n",
        "#Plot the WCSS values onto a line graph\n",
        "plt.plot(range(1, 11), wcss)\n",
        "plt.title('WCSS by Clusters')\n",
        "plt.xlabel('Number of clusters')\n",
        "plt.ylabel('WCSS')\n",
        "plt.show()"
      ],
      "outputs": [
        {
          "output_type": "display_data",
          "data": {
            "text/plain": "<Figure size 432x288 with 1 Axes>",
            "image/png": "[encoded data removed]"
          },
          "metadata": {
            "needs_background": "light"
          }
        }
      ],
      "execution_count": 5,
      "metadata": {}
    },
    {
      "cell_type": "markdown",
      "source": [
        "The plot shows a large reduction in WCSS (so greater *tightness*) as the number of clusters increases from one to two, and a further noticable reduction from two to three clusters. After that, the reduction is less pronounced, resulting in an \"elbow\" in the chart at around three clusters. This is a good indication that there are two to three reasonably well separated clusters of data points.\n",
        "\n",
        "## Summary\n",
        "\n",
        "Here we looked at what clustering means, and how to determine whether clustering might be appropriate for your data. In the next notebook, we will look at two ways of \n",
        "labelling the data automatically."
      ],
      "metadata": {}
    }
  ],
  "metadata": {
    "kernelspec": {
      "name": "conda-env-py37_default-py",
      "language": "python",
      "display_name": "py37_default"
    },
    "language_info": {
      "name": "python",
      "version": "3.7.9",
      "mimetype": "text/x-python",
      "codemirror_mode": {
        "name": "ipython",
        "version": 3
      },
      "pygments_lexer": "ipython3",
      "nbconvert_exporter": "python",
      "file_extension": ".py"
    },
    "kernel_info": {
      "name": "conda-env-py37_default-py"
    },
    "nteract": {
      "version": "nteract-front-end@1.0.0"
    }
  },
  "nbformat": 4,
  "nbformat_minor": 2
}